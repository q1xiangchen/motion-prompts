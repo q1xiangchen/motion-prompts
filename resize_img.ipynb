{
 "cells": [
  {
   "cell_type": "code",
   "execution_count": 2,
   "metadata": {},
   "outputs": [
    {
     "data": {
      "text/plain": [
       "True"
      ]
     },
     "execution_count": 2,
     "metadata": {},
     "output_type": "execute_result"
    }
   ],
   "source": [
    "import cv2\n",
    "\n",
    "path = \"static/images/FineGym_l.png\"\n",
    "img = cv2.imread(path, cv2.IMREAD_COLOR)\n",
    "\n",
    "img = cv2.resize(img, (0, 0), fx=0.125, fy=0.125)\n",
    "# cut the top and bottom\n",
    "# img = img[30:img.shape[0]-30, :]\n",
    "\n",
    "# save the image\n",
    "cv2.imwrite(\"static/images/FineGym_l.png\", img)\n"
   ]
  }
 ],
 "metadata": {
  "kernelspec": {
   "display_name": "dl",
   "language": "python",
   "name": "python3"
  },
  "language_info": {
   "codemirror_mode": {
    "name": "ipython",
    "version": 3
   },
   "file_extension": ".py",
   "mimetype": "text/x-python",
   "name": "python",
   "nbconvert_exporter": "python",
   "pygments_lexer": "ipython3",
   "version": "3.9.17"
  }
 },
 "nbformat": 4,
 "nbformat_minor": 2
}
