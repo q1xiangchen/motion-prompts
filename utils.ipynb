{
 "cells": [
  {
   "cell_type": "code",
   "execution_count": 1,
   "metadata": {},
   "outputs": [],
   "source": [
    "# import cv2\n",
    "\n",
    "# path = \"static/images/FineGym_l.png\"\n",
    "# img = cv2.imread(path, cv2.IMREAD_COLOR)\n",
    "\n",
    "# img = cv2.resize(img, (0, 0), fx=0.125, fy=0.125)\n",
    "# # cut the top and bottom\n",
    "# # img = img[30:img.shape[0]-30, :]\n",
    "\n",
    "# # save the image\n",
    "# cv2.imwrite(\"static/images/FineGym_l.png\", img)\n"
   ]
  },
  {
   "cell_type": "code",
   "execution_count": 3,
   "metadata": {},
   "outputs": [],
   "source": [
    "# convert one page pdf to png\n",
    "import os\n",
    "import pdf2image\n",
    "from PIL import Image\n",
    "\n",
    "path = \"static/images/3d_PNs\"\n",
    "# path = \"./\"\n",
    "pdfs = os.listdir(path)\n",
    "\n",
    "Image.MAX_IMAGE_PIXELS = None\n",
    "\n",
    "for pdf in pdfs:\n",
    "    if pdf.endswith(\".pdf\"):\n",
    "        pages = pdf2image.convert_from_path(f\"{path}/{pdf}\", 500)\n",
    "        for i, page in enumerate(pages):\n",
    "            page.save(f\"{path}/{pdf[:-4]}.png\", \"PNG\")\n",
    "        # os.remove(f\"{path}/{pdf}\")\n",
    "\n",
    "\n"
   ]
  },
  {
   "cell_type": "code",
   "execution_count": 9,
   "metadata": {},
   "outputs": [],
   "source": [
    "# for png in os.listdir(path):\n",
    "#     #rename the png files\n",
    "#     if png.endswith(\".png\"):\n",
    "#         os.rename(f\"{path}/{png}\", f\"{path}/{png[:-5]}.png\")"
   ]
  }
 ],
 "metadata": {
  "kernelspec": {
   "display_name": "dl",
   "language": "python",
   "name": "python3"
  },
  "language_info": {
   "codemirror_mode": {
    "name": "ipython",
    "version": 3
   },
   "file_extension": ".py",
   "mimetype": "text/x-python",
   "name": "python",
   "nbconvert_exporter": "python",
   "pygments_lexer": "ipython3",
   "version": "3.9.17"
  }
 },
 "nbformat": 4,
 "nbformat_minor": 2
}
